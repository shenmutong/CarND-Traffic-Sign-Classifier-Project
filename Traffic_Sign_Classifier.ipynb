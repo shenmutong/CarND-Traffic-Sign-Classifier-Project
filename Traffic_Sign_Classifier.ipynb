{
 "cells": [
  {
   "cell_type": "markdown",
   "metadata": {
    "ein.tags": [
     "worksheet-0"
    ],
    "slideshow": {
     "slide_type": "-"
    }
   },
   "source": [
    "# Self-Driving Car Engineer Nanodegree\n",
    "\n",
    "## Deep Learning\n",
    "\n",
    "## Project: Build a Traffic Sign Recognition Classifier\n",
    "\n",
    "In this notebook, a template is provided for you to implement your functionality in stages which is required to successfully complete this project. If additional code is required that cannot be included in the notebook, be sure that the Python code is successfully imported and included in your submission, if necessary. Sections that begin with **'Implemenntation'** in the header indicate where you should begin your implementation for your project. Note that some sections of implementation are optional, and will be marked with **'Optional'** in the header.\n",
    "\n",
    "In addition to implementing code, there will be questions that you must answer which relate to the project and your implementation. Each section where you will answer a question is preceded by a **'Question'** header. Carefully read each question and provide thorough answers in the following text boxes that begin with **'Answer:'**. Your project submission will be evaluated based on your answers to each of the questions and the implementation you provide.\n",
    "\n",
    ">**Note:** Code and Markdown cells can be executed using the **Shift + Enter** keyboard shortcut. In addition, Markdown cells can be edited by typically double-clicking the cell to enter edit mode."
   ]
  },
  {
   "cell_type": "markdown",
   "metadata": {
    "ein.tags": [
     "worksheet-0"
    ],
    "slideshow": {
     "slide_type": "-"
    }
   },
   "source": [
    "---\n",
    "## Step 0: Load The Data"
   ]
  },
  {
   "cell_type": "code",
   "execution_count": 23,
   "metadata": {
    "autoscroll": "json-false",
    "collapsed": false,
    "ein.tags": [
     "worksheet-0"
    ],
    "slideshow": {
     "slide_type": "-"
    }
   },
   "outputs": [
    {
     "name": "stdout",
     "output_type": "stream",
     "text": [
      "\n",
      "Image Shape: (32, 32, 3)\n",
      "\n",
      "Training Set:   39209 samples\n",
      "Test Set:       12630 samples\n"
     ]
    }
   ],
   "source": [
    "# Load pickled data\n",
    "import pickle\n",
    "import numpy\n",
    "#import sklearn\n",
    "from sklearn.cross_validation import train_test_split\n",
    "# TODO: Fill this in based on where you saved the training and testing data\n",
    "\n",
    "training_file = './train.p'\n",
    "testing_file = './test.p'\n",
    "\n",
    "with open(training_file, mode='rb') as f:\n",
    "    train = pickle.load(f)\n",
    "with open(testing_file, mode='rb') as f:\n",
    "    test = pickle.load(f)\n",
    "    \n",
    "X_train, y_train = train['features'], train['labels']\n",
    "X_test, y_test = test['features'], test['labels']\n",
    "\n",
    "assert(len(X_train) == len(y_train))\n",
    "#assert(len(X_validation) == len(y_validation))\n",
    "assert(len(X_test) == len(y_test))\n",
    "\n",
    "print()\n",
    "print(\"Image Shape: {}\".format(X_train[0].shape))\n",
    "print()\n",
    "print(\"Training Set:   {} samples\".format(len(X_train)))\n",
    "#print(\"Validation Set: {} samples\".format(len(X_validation)))\n",
    "print(\"Test Set:       {} samples\".format(len(X_test)))\n",
    "\n"
   ]
  },
  {
   "cell_type": "markdown",
   "metadata": {
    "ein.tags": [
     "worksheet-0"
    ],
    "slideshow": {
     "slide_type": "-"
    }
   },
   "source": [
    "---\n",
    "\n",
    "## Step 1: Dataset Summary & Exploration\n",
    "\n",
    "The pickled data is a dictionary with 4 key/value pairs:\n",
    "\n",
    "- `'features'` is a 4D array containing raw pixel data of the traffic sign images, (num examples, width, height, channels).\n",
    "- `'labels'` is a 1D array containing the label/class id of the traffic sign. The file `signnames.csv` contains id -> name mappings for each id.\n",
    "- `'sizes'` is a list containing tuples, (width, height) representing the the original width and height the image.\n",
    "- `'coords'` is a list containing tuples, (x1, y1, x2, y2) representing coordinates of a bounding box around the sign in the image. **THESE COORDINATES ASSUME THE ORIGINAL IMAGE. THE PICKLED DATA CONTAINS RESIZED VERSIONS (32 by 32) OF THESE IMAGES**\n",
    "\n",
    "Complete the basic data summary below."
   ]
  },
  {
   "cell_type": "code",
   "execution_count": 24,
   "metadata": {
    "autoscroll": "json-false",
    "collapsed": false,
    "ein.tags": [
     "worksheet-0"
    ],
    "slideshow": {
     "slide_type": "-"
    }
   },
   "outputs": [
    {
     "name": "stdout",
     "output_type": "stream",
     "text": [
      "Number of training examples = 39209\n",
      "Number of testing examples = 12630\n",
      "Image data shape = (32, 32, 3)\n",
      "Number of classes = 42\n"
     ]
    }
   ],
   "source": [
    "### Replace each question mark with the appropriate value.\n",
    "import numpy as np\n",
    "    \n",
    "# TODO: Number of training examples\n",
    "n_train =  len(X_train)\n",
    "# TODO: Number of testing examples.\n",
    "n_test = len(X_test)\n",
    "\n",
    "# TODO: What's the shape of an traffic sign image?\n",
    "image_shape = X_train[0].shape\n",
    "\n",
    "# TODO: How many unique classes/labels there are in the dataset.\n",
    "n_classes = 42 # the class num inresult in signnames\n",
    "\n",
    "print(\"Number of training examples =\", n_train)\n",
    "print(\"Number of testing examples =\", n_test)\n",
    "print(\"Image data shape =\", image_shape)\n",
    "print(\"Number of classes =\", n_classes)"
   ]
  },
  {
   "cell_type": "markdown",
   "metadata": {
    "ein.tags": [
     "worksheet-0"
    ],
    "slideshow": {
     "slide_type": "-"
    }
   },
   "source": [
    "Visualize the German Traffic Signs Dataset using the pickled file(s). This is open ended, suggestions include: plotting traffic sign images, plotting the count of each sign, etc.\n",
    "\n",
    "The [Matplotlib](http://matplotlib.org/) [examples](http://matplotlib.org/examples/index.html) and [gallery](http://matplotlib.org/gallery.html) pages are a great resource for doing visualizations in Python.\n",
    "\n",
    "**NOTE:** It's recommended you start with something simple first. If you wish to do more, come back to it after you've completed the rest of the sections."
   ]
  },
  {
   "cell_type": "code",
   "execution_count": 3,
   "metadata": {
    "autoscroll": "json-false",
    "collapsed": false,
    "ein.tags": [
     "worksheet-0"
    ],
    "slideshow": {
     "slide_type": "-"
    }
   },
   "outputs": [
    {
     "data": {
      "image/png": "[encoded data removed]",
      "text/plain": [
       "<matplotlib.figure.Figure at 0x7ff8c820fc50>"
      ]
     },
     "metadata": {},
     "output_type": "display_data"
    },
    {
     "data": {
      "image/png": "[encoded data removed]",
      "text/plain": [
       "<matplotlib.figure.Figure at 0x7ff8c8381470>"
      ]
     },
     "metadata": {},
     "output_type": "display_data"
    },
    {
     "name": "stdout",
     "output_type": "stream",
     "text": [
      "====shwo the count of the train ======\n"
     ]
    },
    {
     "data": {
      "image/png": "[encoded data removed]",
      "text/plain": [
       "<matplotlib.figure.Figure at 0x7ff8c835cac8>"
      ]
     },
     "metadata": {},
     "output_type": "display_data"
    },
    {
     "name": "stdout",
     "output_type": "stream",
     "text": [
      "==== GaussianBlue and Edge =====\n"
     ]
    },
    {
     "data": {
      "image/png": "[encoded data removed]",
      "text/plain": [
       "<matplotlib.figure.Figure at 0x7ff8c83b0588>"
      ]
     },
     "metadata": {},
     "output_type": "display_data"
    },
    {
     "name": "stdout",
     "output_type": "stream",
     "text": [
      "17543\n",
      "the index in train is 17543\n",
      "the y_train is 11\n",
      "===== the gray image |=========\n",
      "image shape = (32, 32)\n"
     ]
    },
    {
     "data": {
      "image/png": "[encoded data removed]",
      "text/plain": [
       "<matplotlib.figure.Figure at 0x7ff8df225390>"
      ]
     },
     "metadata": {},
     "output_type": "display_data"
    }
   ],
   "source": [
    "### Data exploration visualization goes here.\n",
    "### Feel free to use as many code cells as needed.\n",
    "import matplotlib.pyplot as plt\n",
    "import random\n",
    "import cv2\n",
    "# Visualizations will be shown in the notebook.\n",
    "%matplotlib inline\n",
    "#image = plt.imread(X_train[0])\n",
    "index = random.randint(0,len(X_train))\n",
    "image = X_train[index]\n",
    "\n",
    "plt.imshow(image)\n",
    "plt.show()\n",
    "print(index)\n",
    "print('the index in train is {}'.format(index))\n",
    "print('the y_train is {}'.format(y_train[index]))\n",
    "\n",
    "print(\"===== the gray image |=========\")\n",
    "gray = cv2.cvtColor(image, cv2.COLOR_RGB2GRAY)\n",
    "print(\"image shape =\",gray.shape)\n",
    "\n",
    "plt.imshow(gray, cmap='gray')\n",
    "plt.show()\n",
    "\n",
    "#print(\"==== GaussianBlue =====\")\n",
    "# Define a kernel size for Gaussian smoothing / blurring\n",
    "#kernel_size = 5\n",
    "#blur_gray = cv2.GaussianBlur(gray,(kernel_size, kernel_size), 0)\n",
    "\n",
    "print(\"==== GaussianBlue and Edge =====\")\n",
    "# Define parameters for Canny and run it\n",
    "# NOTE: if you try running this code you might want to change these!\n",
    "low_threshold = 10\n",
    "high_threshold = 150\n",
    "edges = cv2.Canny(image, low_threshold, high_threshold)\n",
    "from sklearn.cross_validation import train_test_split\n",
    "plt.imshow(edges, cmap='Greys_r')\n",
    "plt.show()\n",
    "\n",
    "# Display the image\n",
    "#plt.imshow(edges, cmap='Greys_r')\n",
    "\n",
    "\n",
    "print( \"====shwo the count of the train ======\" )\n",
    "## shwo the count of the train \n",
    "classesListCount = []\n",
    "for index in range(n_classes):\n",
    "    point = 0\n",
    "    classesListCount.append(point)\n",
    "    \n",
    "classesListCountMaxValue = 0\n",
    "for index in range(len(X_train)):\n",
    "    listIndex = y_train[index] -1\n",
    "    #value = list[listIndex]\n",
    "    #value = int(value) + 1\n",
    "    classesListCount[listIndex] += 1\n",
    "    if classesListCountMaxValue < classesListCount[listIndex] :\n",
    "        classesListCountMaxValue = classesListCount[listIndex]\n",
    "    \n",
    "plt.plot(classesListCount)\n",
    "plt.show()\n",
    "dataList = []\n",
    "for index in range(len(X_train)):\n",
    "    dataList.append(y_train[index])\n",
    "\n",
    "plt.plot(dataList)\n",
    "plt.show()\n",
    "#print(\"Max Point Count = \",MaxPointCount)\n",
    "#plt.plot([1,2,3,4])\n",
    "#plt.ylabel('some numbers')\n",
    "#plt.show()\n"
   ]
  },
  {
   "cell_type": "code",
   "execution_count": 3,
   "metadata": {
    "autoscroll": "json-false",
    "collapsed": false,
    "ein.tags": [
     "worksheet-0"
    ],
    "slideshow": {
     "slide_type": "-"
    }
   },
   "outputs": [],
   "source": []
  },
  {
   "cell_type": "markdown",
   "metadata": {
    "ein.tags": [
     "worksheet-0"
    ],
    "slideshow": {
     "slide_type": "-"
    }
   },
   "source": [
    "----\n",
    "\n",
    "## Step 2: Design and Test a Model Architecture\n",
    "\n",
    "Design and implement a deep learning model that learns to recognize traffic signs. Train and test your model on the [German Traffic Sign Dataset](http://benchmark.ini.rub.de/?section=gtsrb&subsection=dataset).\n",
    "\n",
    "There are various aspects to consider when thinking about this problem:\n",
    "\n",
    "- Neural network architecture\n",
    "- Play around preprocessing techniques (normalization, rgb to grayscale, etc)\n",
    "- Number of examples per label (some have more than others).\n",
    "- Generate fake data.\n",
    "\n",
    "Here is an example of a [published baseline mod\n",
    "In [48]:\n",
    "el on this problem](http://yann.lecun.com/exdb/publis/pdf/sermanet-ijcnn-11.pdf). It's not required to be familiar with the approach used in the paper but, it's good practice to try to read papers like these.\n",
    "\n",
    "**NOTE:** The LeNet-5 implementation shown in the [classroom](https://classroom.udacity.com/nanodegrees/nd013/parts/fbf77062-5703-404e-b60c-95b78b2f3f9e/modules/6df7ae49-c61c-4bb2-a23e-6527e69209ec/lessons/601ae704-1035-4287-8b11-e2c2716217ad/concepts/d4aca031-508f-4e0b-b493-e7b706120f81) at the end of the CNN lesson is a solid starting point. You'll have to change the number of classes and possibly the preprocessing, but aside from that it's plug and play!"
   ]
  },
  {
   "cell_type": "markdown",
   "metadata": {
    "ein.tags": [
     "worksheet-0"
    ],
    "slideshow": {
     "slide_type": "-"
    }
   },
   "source": [
    "### Implementation\n",
    "\n",
    "Use the code cell (or multiple code cells, if necessary) to implement the first step of your project. Once you have completed your implementation and are satisfied with the results, be sure to thoroughly answer the questions that follow."
   ]
  },
  {
   "cell_type": "code",
   "execution_count": 4,
   "metadata": {
    "autoscroll": "json-false",
    "collapsed": false,
    "ein.tags": [
     "worksheet-0"
    ],
    "slideshow": {
     "slide_type": "-"
    }
   },
   "outputs": [],
   "source": [
    "### Preprocess the data here.\n",
    "### Feel free to use as many code cells as needed."
   ]
  },
  {
   "cell_type": "code",
   "execution_count": 4,
   "metadata": {
    "autoscroll": "json-false",
    "collapsed": false,
    "ein.tags": [
     "worksheet-0"
    ],
    "slideshow": {
     "slide_type": "-"
    }
   },
   "outputs": [],
   "source": [
    "#### shuffle data\n",
    "from sklearn.utils import shuffle\n",
    "X_train, y_train = shuffle(X_train, y_train, random_state=0)"
   ]
  },
  {
   "cell_type": "code",
   "execution_count": 25,
   "metadata": {
    "autoscroll": "json-false",
    "collapsed": false,
    "ein.tags": [
     "worksheet-0"
    ],
    "slideshow": {
     "slide_type": "-"
    }
   },
   "outputs": [
    {
     "name": "stdout",
     "output_type": "stream",
     "text": [
      " Training Set:   39209 samples\n",
      " Training Set:   39209 samples\n",
      " Is Convert Data To Gray ? True\n",
      " Is Convert Data To Gray ? False\n",
      " Image data shape = (32, 32, 1)\n",
      " Color data len  = 1\n"
     ]
    }
   ],
   "source": [
    "### gray and edge the image\n",
    "\n",
    "#is_convert2gray = False;\n",
    "is_convert2gray = True\n",
    "is_convert2edge = False;\n",
    "#is_convert2edge = True\n",
    "\n",
    "#data_shape = 3\n",
    "low_threshold = 10\n",
    "high_threshold = 150\n",
    "def convert_data(x): \n",
    "    result = []\n",
    "    for index in range(len(x)):\n",
    "        image = x[index]        \n",
    "        if is_convert2gray:\n",
    "            image = cv2.cvtColor(image, cv2.COLOR_RGB2GRAY)\n",
    "        if is_convert2edge:\n",
    "            image = cv2.Canny(image, low_threshold, high_threshold)\n",
    "        if is_convert2edge or is_convert2gray:\n",
    "            image = image.reshape(32,32,1)\n",
    "        result.append(image)\n",
    "    return result\n",
    "print(\" Training Set:   {} samples\".format(len(X_train)))\n",
    "\n",
    "X_train = convert_data(X_train)\n",
    "#X_validation = convert_data(X_validation)\n",
    "#X_test = convert_data(X_test)\n",
    "\n",
    "color_data_len = X_train[0].shape[2]\n",
    "print(\" Training Set:   {} samples\".format(len(X_train)))\n",
    "print(\" Is Convert Data To Gray ?\" , is_convert2gray)\n",
    "print(\" Is Convert Data To Gray ?\" , is_convert2edge)\n",
    "print(\" Image data shape =\", X_train[0].shape)\n",
    "print(\" Color data len  =\", color_data_len)"
   ]
  },
  {
   "cell_type": "code",
   "execution_count": 6,
   "metadata": {
    "autoscroll": "json-false",
    "collapsed": false,
    "ein.tags": [
     "worksheet-0"
    ],
    "slideshow": {
     "slide_type": "-"
    }
   },
   "outputs": [],
   "source": []
  },
  {
   "cell_type": "markdown",
   "metadata": {
    "ein.tags": [
     "worksheet-0"
    ],
    "slideshow": {
     "slide_type": "-"
    }
   },
   "source": [
    "### Question 1 \n",
    "_Describe how you preprocessed the data. Why did you choose that technique?_"
   ]
  },
  {
   "cell_type": "markdown",
   "metadata": {
    "ein.tags": [
     "worksheet-0"
    ],
    "slideshow": {
     "slide_type": "-"
    }
   },
   "source": [
    "**Answer:\n",
    "#### gray data\n",
    "I used convert the data to gray,because I founded in the dark or too light enviroment photos,the gray photo is more clear,and It doesn't affect normal photo.\n",
    "#### edge data\n",
    "I also tried use edge to preproce the data,but some unclear image after edged ,It becomes more unrecongnized."
   ]
  },
  {
   "cell_type": "code",
   "execution_count": 7,
   "metadata": {
    "autoscroll": "json-false",
    "collapsed": false,
    "ein.tags": [
     "worksheet-0"
    ],
    "slideshow": {
     "slide_type": "-"
    }
   },
   "outputs": [],
   "source": [
    "### Generate additional data (OPTIONAL!)\n",
    "### and split the data into training/validation/testing sets here.\n",
    "### Feel free to use as many code cells as needed."
   ]
  },
  {
   "cell_type": "code",
   "execution_count": 26,
   "metadata": {
    "autoscroll": "json-false",
    "collapsed": false,
    "ein.tags": [
     "worksheet-0"
    ],
    "slideshow": {
     "slide_type": "-"
    }
   },
   "outputs": [
    {
     "name": "stdout",
     "output_type": "stream",
     "text": [
      "X_train_result len =  39209\n",
      "y_train_result len =  39209\n",
      "X_train len =  39209\n",
      "y_train len =  39209\n"
     ]
    },
    {
     "data": {
      "image/png": "[encoded data removed]",
      "text/plain": [
       "<matplotlib.figure.Figure at 0x7ff82a22aef0>"
      ]
     },
     "metadata": {},
     "output_type": "display_data"
    },
    {
     "name": "stdout",
     "output_type": "stream",
     "text": [
      "[1 2 3 1 2 3]\n",
      "X_train len =  39209\n",
      "y_train len =  39209\n"
     ]
    }
   ],
   "source": [
    "### Generate additional data \n",
    "classesListCountMaxValue = 1000\n",
    "test = [1,2,3]\n",
    "for index in range(0,3):\n",
    "    test = np.append(test,test[index])\n",
    "print(test)\n",
    "print( \"X_train len = \" ,len(X_train))\n",
    "print( \"y_train len = \" ,len(y_train)) \n",
    "X_train_result = X_train;\n",
    "y_train_result = y_train;\n",
    "      \n",
    "plt.plot(classesListCount)\n",
    "plt.show()\n",
    "print( \"X_train_result len = \" ,len(X_train_result))\n",
    "print( \"y_train_result len = \" ,len(y_train_result))\n",
    "\n",
    "print( \"X_train len = \" ,len(X_train))\n",
    "print( \"y_train len = \" ,len(y_train))\n"
   ]
  },
  {
   "cell_type": "code",
   "execution_count": 14,
   "metadata": {
    "autoscroll": "json-false",
    "collapsed": false,
    "ein.tags": [
     "worksheet-0"
    ],
    "slideshow": {
     "slide_type": "-"
    }
   },
   "outputs": [],
   "source": []
  },
  {
   "cell_type": "code",
   "execution_count": 27,
   "metadata": {
    "autoscroll": "json-false",
    "collapsed": false,
    "ein.tags": [
     "worksheet-0"
    ],
    "slideshow": {
     "slide_type": "-"
    }
   },
   "outputs": [],
   "source": [
    "### split the data to validation\n",
    "from sklearn.cross_validation import train_test_split\n",
    "\n",
    "X_train , X_validation ,y_train,y_validation = train_test_split(X_train,y_train,test_size = 0.2,random_state = 0)\n"
   ]
  },
  {
   "cell_type": "markdown",
   "metadata": {
    "ein.tags": [
     "worksheet-0"
    ],
    "slideshow": {
     "slide_type": "-"
    }
   },
   "source": [
    "### Question 2\n",
    "\n",
    "_Describe how you set up the training, validation and testing data for your model. **Optional**: If you generated additional data, how did you generate the data? Why did you generate the data? What are the differences in the new dataset ( with generated data) from the original dataset?\n",
    "\n"
   ]
  },
  {
   "cell_type": "markdown",
   "metadata": {
    "ein.tags": [
     "worksheet-0"
    ],
    "slideshow": {
     "slide_type": "-"
    }
   },
   "source": [
    "**Answer:**\n",
    "I used the train_test_split from sklearn.cross_validation import train_test_split.I splited 20% data for checked the algothrm.so I cannot use the test data for check. "
   ]
  },
  {
   "cell_type": "code",
   "execution_count": 17,
   "metadata": {
    "autoscroll": "json-false",
    "collapsed": false,
    "ein.tags": [
     "worksheet-0"
    ],
    "slideshow": {
     "slide_type": "-"
    }
   },
   "outputs": [],
   "source": [
    "### Define your architecture here.\n",
    "### Feel free to use as many code cells as needed."
   ]
  },
  {
   "cell_type": "code",
   "execution_count": 28,
   "metadata": {
    "autoscroll": "json-false",
    "collapsed": false,
    "ein.tags": [
     "worksheet-0"
    ],
    "slideshow": {
     "slide_type": "-"
    }
   },
   "outputs": [],
   "source": [
    "## basic function\n",
    "## convolutional func\n",
    "def conv2d(is_act,x,W,b,strides =1,padding = 'VALID',):\n",
    "    result = tf.nn.conv2d(x,W, strides =[1,strides,strides,1] , padding = padding)\n",
    "    result = tf.nn.bias_add(result,b)\n",
    "    if is_act:\n",
    "        return tf.nn.relu(result)\n",
    "    else :\n",
    "        return result\n",
    "def maxpool2d(x,k=2):\n",
    "    return tf.nn.max_pool(x,ksize = [1,k,k,1],strides = [1,k,k,1], padding = 'VALID')\n",
    "def fullyConnected(x,W,b):\n",
    "    result = tf.reshape(x[-1,W.get_shape().aslist()[0]])\n",
    "    result = tf.add(tf.matmul(result,W),b)\n",
    "    result = tf.nn.relu(result)\n",
    "    result = tf.nn.dropout(result,dropout)\n",
    "    return result\n"
   ]
  },
  {
   "cell_type": "code",
   "execution_count": 29,
   "metadata": {
    "autoscroll": "json-false",
    "collapsed": false,
    "ein.tags": [
     "worksheet-0"
    ],
    "slideshow": {
     "slide_type": "-"
    }
   },
   "outputs": [],
   "source": [
    "###### LeNet\n",
    "from tensorflow.contrib.layers import flatten\n",
    "mu = 0\n",
    "sigma = 0.1\n",
    "    \n",
    "def le_net(x): \n",
    "    \n",
    "## initial weights and baises\n",
    "    weights = {\n",
    "        'conv1': tf.Variable(tf.random_normal([5, 5, color_data_len, 8])),\n",
    "        'conv2': tf.Variable(tf.random_normal([5, 5, 8, 32]))\n",
    "   #     'wd1': tf.Variable(tf.random_normal([7*7*64, 1024])),\n",
    "    #    'out': tf.Variable(tf.random_normal([1024, n_classes]))\n",
    "\n",
    "    }\n",
    "    biases = {\n",
    "\n",
    "        'bc1': tf.Variable(tf.random_normal([8])),\n",
    "        'bc2': tf.Variable(tf.random_normal([32]))\n",
    "    #    'bd1': tf.Variable(tf.random_normal([1024])),\n",
    "   #     'out': tf.Variable(tf.random_normal([n_classes]))\n",
    "    }\n",
    "     # Arguments used for tf.truncated_normal, randomly defines variables for the weights and biases for each layer\n",
    "\n",
    "    # SOLUTION: Layer 1: Convolutional. Input = 32x32x3. Output = 28x28x8. 4x4x32\n",
    "    conv1 = conv2d(True,x,weights['conv1'],biases['bc1'],strides = 1, padding='VALID',)\n",
    "    \n",
    "\n",
    "    # SOLUTION: Pooling. Input = 28x28x8. Output = 14x14x8. \n",
    "    conv1 = tf.nn.max_pool(conv1, ksize=[1, 2, 2, 1], strides=[1, 2, 2, 1], padding='VALID')\n",
    "\n",
    "    # SOLUTION: Layer 2: Convolutional. 14x14x8 Output = 10x10x32\n",
    "    conv2 = conv2d(True,conv1,weights['conv2'],biases['bc2'],strides = 1, padding='VALID',)    \n",
    "\n",
    "    \n",
    "    # SOLUTION: Pooling. Input = 10x10x32. Output = 5x5x32.\n",
    "    conv2 = tf.nn.max_pool(conv2, ksize=[1, 2, 2, 1], strides=[1, 2, 2, 1], padding='VALID')\n",
    "\n",
    "    # SOLUTION: Flatten. Input = 5x5x64. Output = 800.\n",
    "    ft0   = flatten(conv2) #800\n",
    "    ft1   = flatten(conv1) #1568\n",
    "    fc0 = tf.concat(1, [ft0, ft1])\n",
    "\n",
    "    # SOLUTION: Layer 3: Fully Connected. Input = 800. Output = 120.\n",
    "    #fc1_W = tf.Variable(tf.truncated_normal(shape=(2368, 84), mean = mu, stddev = sigma))\n",
    "    #fc1_b = tf.Variable(tf.random_normal([84]))\n",
    "    #fc1   = tf.matmul(fc0, fc1_W) + fc1_b\n",
    "    \n",
    "    # SOLUTION: Activation.\n",
    "    #fc1    = tf.nn.relu(fc1)\n",
    "\n",
    "    # SOLUTION: Layer 4: Fully Connected. Input = 120. Output = 84.\n",
    "    #fc2_W  = tf.Variable(tf.truncated_normal(shape=(120, 84), mean = mu, stddev = sigma))\n",
    "    #fc2_b  = tf.Variable(tf.random_normal([84]))\n",
    "    #fc2    = tf.matmul(fc1, fc2_W) + fc2_b\n",
    "    \n",
    "    # SOLUTION: Activation.\n",
    "    #fc2    = tf.nn.relu(fc2)\n",
    "\n",
    "    # SOLUTION: Layer 5: Fully Connected. Input = 84. Output = 10.\n",
    "    fc3_W  = tf.Variable(tf.truncated_normal(shape=(2368, 42), mean = mu, stddev = sigma))\n",
    "    fc3_b  = tf.Variable(tf.random_normal([42]))\n",
    "    logits = tf.matmul(fc0, fc3_W) + fc3_b\n",
    "    \n",
    "    return logits"
   ]
  },
  {
   "cell_type": "code",
   "execution_count": 30,
   "metadata": {
    "autoscroll": "json-false",
    "collapsed": false,
    "ein.tags": [
     "worksheet-0"
    ],
    "slideshow": {
     "slide_type": "-"
    }
   },
   "outputs": [],
   "source": [
    "#### MSNet\n",
    "from tensorflow.contrib.layers import flatten\n",
    "\n",
    "def ms_net(x): \n",
    "    mu = 0\n",
    "    sigma = 0.1\n",
    "    \n",
    "## initial weights and baises\n",
    "    weights = {\n",
    "        'conv1': tf.Variable(tf.random_normal([5, 5, color_data_len, 8])),\n",
    "        'conv2': tf.Variable(tf.random_normal([3 ,3, 8, 32])),\n",
    "        'conv3': tf.Variable(tf.random_normal([3, 3, 32, 64]))\n",
    "   #     'wd1': tf.Variable(tf.random_normal([7*7*64, 1024])),\n",
    "    #    'out': tf.Variable(tf.random_normal([1024, n_classes]))\n",
    "\n",
    "    }\n",
    "    biases = {\n",
    "\n",
    "        'bc1': tf.Variable(tf.random_normal([8])),\n",
    "        'bc2': tf.Variable(tf.random_normal([32])),\n",
    "        'bc3': tf.Variable(tf.random_normal([64]))\n",
    "    #    'bd1': tf.Variable(tf.random_normal([1024])),\n",
    "   #     'out': tf.Variable(tf.random_normal([n_classes]))\n",
    "    }\n",
    "    \n",
    "    #stage 1\n",
    "    #input 32x32x1 output 28x28x8\n",
    "    conv1 = conv2d(False,x,weights['conv1'],biases['bc1'],strides = 1, padding='VALID')\n",
    "    #input 32x32x1 output 14x14x8\n",
    "    conv1 = tf.nn.max_pool(conv1, ksize=[1, 2, 2, 1], strides=[1, 2, 2, 1], padding='VALID')    \n",
    "    conv1 = tf.nn.relu(conv1)\n",
    "    \n",
    "    \n",
    "    #stage 2\n",
    "    #input 14x14x8 output 12x12x32\n",
    "    conv2 = conv2d(False,conv1,weights['conv2'],biases['bc2'],strides = 1, padding='VALID')\n",
    "    #input 12x12x32 output 6x6x32\n",
    "    conv2 = tf.nn.max_pool(conv2, ksize=[1, 2, 2, 1], strides=[1, 2, 2, 1], padding='VALID')    \n",
    "    conv2 = tf.nn.relu(conv2)\n",
    "    #input 4x4x64\n",
    "    conv3 = conv2d(False,conv2,weights['conv3'],biases['bc3'],strides = 1, padding='VALID')\n",
    "    ft0_conv1 = flatten(conv1)#len = 14x14x8 = 1568\n",
    "    ft0_conv2 = flatten(conv2)#len = 6x6x32 = 1152\n",
    "    ft0_conv3 = flatten(conv3)# len = 4x4x64 = 1024\n",
    "    # 1568 + 800 = 2368\n",
    "    #ft1 = ft0_conv1\n",
    "    #ft1.extend(ft0_conv2)\n",
    "    #ft1[1568:1568] = ft0_conv2\n",
    "    ft1 = tf.concat(1, [ft0_conv1, ft0_conv2])\n",
    "    ft1 = tf.concat(1, [ft1, ft0_conv3])\n",
    "    \n",
    "    #medium ## add a fully connect layer will decressed the Validation Accuracy \n",
    "    #fc0_W = tf.Variable(tf.truncated_normal(shape=(3744, 1024), mean = mu, stddev = sigma))\n",
    "    #fc0_b = tf.Variable(tf.random_normal([1024]))\n",
    "    #fc0   = tf.matmul(ft1, fc0_W) + fc0_b\n",
    "    \n",
    "    #fc0 = tf.nn.relu(fc0)\n",
    "    \n",
    "    \n",
    "    fc1_W = tf.Variable(tf.truncated_normal(shape=(3744, n_classes), mean = mu, stddev = sigma))\n",
    "    fc1_b = tf.Variable(tf.random_normal([n_classes]))\n",
    "    fc1   = tf.matmul(ft1, fc1_W) + fc1_b\n",
    "    \n",
    "    logits = tf.nn.dropout(fc1,0.75)\n",
    "    # SOLUTION: Activation.\n",
    "    #fc1    = tf.nn.relu(fc1)## add this will low the Validation acc \n",
    "    return fc1\n"
   ]
  },
  {
   "cell_type": "markdown",
   "metadata": {
    "ein.tags": [
     "worksheet-0"
    ],
    "slideshow": {
     "slide_type": "-"
    }
   },
   "source": [
    "### Question 3\n",
    "\n",
    "_What does your final architecture look like? (Type of model, layers, sizes, connectivity, etc.)  For reference on how to build a deep neural network using TensorFlow, see [Deep Neural Network in TensorFlow\n",
    "](https://classroom.udacity.com/nanodegrees/nd013/parts/fbf77062-5703-404e-b60c-95b78b2f3f9e/modules/6df7ae49-c61c-4bb2-a23e-6527e69209ec/lessons/b516a270-8600-4f93-a0a3-20dfeabe5da6/concepts/83a3a2a2-a9bd-4b7b-95b0-eb924ab14432) from the classroom._\n"
   ]
  },
  {
   "cell_type": "markdown",
   "metadata": {
    "ein.tags": [
     "worksheet-0"
    ],
    "slideshow": {
     "slide_type": "-"
    }
   },
   "source": [
    "**Answer:**\n",
    "I Implementated LeNet-5 and MS_Net which is writen in this [Traffic Sign Recognition with Multi-Scale Convolutional Networks](http://yann.lecun.com/exdb/publis/pdf/sermanet-ijcnn-11.pdf). Compare the two architechture. I founded the MS_Net is more effective.\n",
    "the MS_Net architecture which I used is like that :\n",
    "A 2-stage ConvNet architecture. The input is processed in a feedforward manner through two stage of convolutions and subsampling, and finally classified with a linear classifier. The output of the 1st stage is also fed directly to the classifier as higher-resolution features "
   ]
  },
  {
   "cell_type": "code",
   "execution_count": 21,
   "metadata": {
    "autoscroll": "json-false",
    "collapsed": false,
    "ein.tags": [
     "worksheet-0"
    ],
    "slideshow": {
     "slide_type": "-"
    }
   },
   "outputs": [],
   "source": [
    "### Train your model here.\n",
    "### Feel free to use as many code cells as needed."
   ]
  },
  {
   "cell_type": "code",
   "execution_count": 33,
   "metadata": {
    "autoscroll": "json-false",
    "collapsed": false,
    "ein.tags": [
     "worksheet-0"
    ],
    "slideshow": {
     "slide_type": "-"
    }
   },
   "outputs": [
    {
     "ename": "NameError",
     "evalue": "name 'accuracy' is not defined",
     "output_type": "error",
     "traceback": [
      "\u001b[0;31m----------------------------------------------------------\u001b[0m",
      "\u001b[0;31mNameError\u001b[0m                Traceback (most recent call last)",
      "\u001b[0;32m<ipython-input-33-aab985ed8753>\u001b[0m in \u001b[0;36m<module>\u001b[0;34m()\u001b[0m\n\u001b[1;32m     71\u001b[0m             \u001b[0;32mif\u001b[0m \u001b[0;34m(\u001b[0m\u001b[0mmost_accuracy\u001b[0m \u001b[0;34m-\u001b[0m\u001b[0mvalidation_accuracy\u001b[0m\u001b[0;34m)\u001b[0m \u001b[0;34m>\u001b[0m \u001b[0;36m0.05\u001b[0m\u001b[0;34m:\u001b[0m\u001b[0;34m\u001b[0m\u001b[0m\n\u001b[1;32m     72\u001b[0m                 \u001b[0;32mbreak\u001b[0m\u001b[0;34m\u001b[0m\u001b[0m\n\u001b[0;32m---> 73\u001b[0;31m     print (\"test accuracy %g\"%accuracy.eval(feed_dict={\n\u001b[0m\u001b[1;32m     74\u001b[0m               x: X_test, y_: y_test, keep_prob: 1.0}))\n\u001b[1;32m     75\u001b[0m     \u001b[0mprint\u001b[0m\u001b[0;34m(\u001b[0m\u001b[0;34m\"break EPOCH = \"\u001b[0m\u001b[0;34m,\u001b[0m \u001b[0;34m)\u001b[0m\u001b[0;34m\u001b[0m\u001b[0m\n",
      "\u001b[0;31mNameError\u001b[0m: name 'accuracy' is not defined"
     ]
    },
    {
     "name": "stdout",
     "output_type": "stream",
     "text": [
      "EPOCH 20 ...\n",
      "Validation Accuracy = 0.883\n",
      "\n"
     ]
    },
    {
     "name": "stdout",
     "output_type": "stream",
     "text": [
      "EPOCH 19 ...\n",
      "Validation Accuracy = 0.896\n",
      "\n"
     ]
    },
    {
     "name": "stdout",
     "output_type": "stream",
     "text": [
      "EPOCH 18 ...\n",
      "Validation Accuracy = 0.877\n",
      "\n"
     ]
    },
    {
     "name": "stdout",
     "output_type": "stream",
     "text": [
      "EPOCH 17 ...\n",
      "Validation Accuracy = 0.890\n",
      "\n"
     ]
    },
    {
     "name": "stdout",
     "output_type": "stream",
     "text": [
      "EPOCH 16 ...\n",
      "Validation Accuracy = 0.918\n",
      "\n"
     ]
    },
    {
     "name": "stdout",
     "output_type": "stream",
     "text": [
      "EPOCH 15 ...\n",
      "Validation Accuracy = 0.913\n",
      "\n"
     ]
    },
    {
     "name": "stdout",
     "output_type": "stream",
     "text": [
      "EPOCH 14 ...\n",
      "Validation Accuracy = 0.919\n",
      "\n"
     ]
    },
    {
     "name": "stdout",
     "output_type": "stream",
     "text": [
      "EPOCH 13 ...\n",
      "Validation Accuracy = 0.912\n",
      "\n"
     ]
    },
    {
     "name": "stdout",
     "output_type": "stream",
     "text": [
      "EPOCH 12 ...\n",
      "Validation Accuracy = 0.916\n",
      "\n"
     ]
    },
    {
     "name": "stdout",
     "output_type": "stream",
     "text": [
      "EPOCH 11 ...\n",
      "Validation Accuracy = 0.908\n",
      "\n"
     ]
    },
    {
     "name": "stdout",
     "output_type": "stream",
     "text": [
      "EPOCH 10 ...\n",
      "Validation Accuracy = 0.906\n",
      "\n"
     ]
    },
    {
     "name": "stdout",
     "output_type": "stream",
     "text": [
      "EPOCH 9 ...\n",
      "Validation Accuracy = 0.904\n",
      "\n"
     ]
    },
    {
     "name": "stdout",
     "output_type": "stream",
     "text": [
      "EPOCH 8 ...\n",
      "Validation Accuracy = 0.886\n",
      "\n"
     ]
    },
    {
     "name": "stdout",
     "output_type": "stream",
     "text": [
      "EPOCH 7 ...\n",
      "Validation Accuracy = 0.883\n",
      "\n"
     ]
    },
    {
     "name": "stdout",
     "output_type": "stream",
     "text": [
      "EPOCH 6 ...\n",
      "Validation Accuracy = 0.871\n",
      "\n"
     ]
    },
    {
     "name": "stdout",
     "output_type": "stream",
     "text": [
      "EPOCH 5 ...\n",
      "Validation Accuracy = 0.857\n",
      "\n"
     ]
    },
    {
     "name": "stdout",
     "output_type": "stream",
     "text": [
      "EPOCH 4 ...\n",
      "Validation Accuracy = 0.836\n",
      "\n"
     ]
    },
    {
     "name": "stdout",
     "output_type": "stream",
     "text": [
      "EPOCH 3 ...\n",
      "Validation Accuracy = 0.802\n",
      "\n"
     ]
    },
    {
     "name": "stdout",
     "output_type": "stream",
     "text": [
      "EPOCH 2 ...\n",
      "Validation Accuracy = 0.750\n",
      "\n"
     ]
    },
    {
     "name": "stdout",
     "output_type": "stream",
     "text": [
      "EPOCH 1 ...\n",
      "Validation Accuracy = 0.591\n",
      "\n"
     ]
    },
    {
     "name": "stdout",
     "output_type": "stream",
     "text": [
      "Training...\n",
      "X_train shape =  (32, 32, 1)\n"
     ]
    }
   ],
   "source": [
    "import tensorflow as tf\n",
    "\n",
    "##\n",
    "learning_rate = 0.001  #ms_net learning_rate = 0.0005  epochs = 20    \n",
    "epochs = 20\n",
    "batch_size = 256\n",
    "# tf Graph input\n",
    "x = tf.placeholder(tf.float32, [None, 32, 32, color_data_len])\n",
    "y = tf.placeholder(tf.int32, (None))\n",
    "one_hot_y = tf.one_hot(y,n_classes)\n",
    "\n",
    "\n",
    "#keep_prob = tf.placeholder(tf.float32)\n",
    "# Modelh\n",
    "#logits = conv_net(x,keep_prob)\n",
    "logits = ms_net(x)\n",
    "#logits = le_net(x)\n",
    "\n",
    "\n",
    "# Define loss and optimizer\n",
    "cross_entropy = tf.nn.softmax_cross_entropy_with_logits(logits, one_hot_y)\n",
    "loss_operation = tf.reduce_mean(cross_entropy)\n",
    "optimizerAdam = tf.train.AdamOptimizer(learning_rate = learning_rate)\n",
    "optimizerSGD = tf.train.GradientDescentOptimizer(learning_rate = learning_rate)\n",
    "training_operation = optimizerAdam.minimize(loss_operation)\n",
    "#training_operation = optimizerSGD.minimize(loss_operation)\n",
    "# Accuracy\n",
    "correct_pred = tf.equal(tf.argmax(logits, 1), tf.argmax(one_hot_y, 1))\n",
    "accuracy_oper = tf.reduce_mean(tf.cast(correct_pred, tf.float32))\n",
    "\n",
    "def evaluate(X_data, y_data):\n",
    "    num_examples = len(X_data)\n",
    "    total_accuracy = 0\n",
    "    sess = tf.get_default_session()\n",
    "    for offset in range(0, num_examples, batch_size):\n",
    "        batch_x, batch_y = X_data[offset:offset+batch_size], y_data[offset:offset+batch_size]\n",
    "        accuracy = sess.run(accuracy_oper, feed_dict={x: batch_x, y: batch_y})\n",
    "        total_accuracy += (accuracy * len(batch_x))\n",
    "    return total_accuracy / num_examples\n",
    "validation_accuracy_list = []\n",
    "most_accuracy = 0\n",
    "epoch_count = 0\n",
    "\n",
    "with tf.Session() as sess:\n",
    "    sess.run(tf.global_variables_initializer())\n",
    "    num_examples = len(X_train)\n",
    "#    X_train = X_train_gray\n",
    "#    X_Validation = X_validation_gray\n",
    "    print(\"Training...\")\n",
    "    print(\"X_train shape = \",X_train[0].shape)\n",
    "    for i in range(epochs):\n",
    "        \n",
    "        X_train, y_train = shuffle(X_train, y_train)\n",
    "        \n",
    "        for offset in range(0, len(X_train), batch_size):\n",
    "            end = offset + batch_size\n",
    "            batch_x, batch_y = X_train[offset:end], y_train[offset:end]\n",
    "            sess.run(training_operation, feed_dict={x: batch_x, y: batch_y})\n",
    "            \n",
    "        validation_accuracy = evaluate(X_validation, y_validation)\n",
    "        \n",
    "        validation_accuracy_list.append(validation_accuracy)\n",
    "\n",
    "        epoch_count +=1\n",
    "        print(\"EPOCH {} ...\".format(i+1))\n",
    "        print(\"Validation Accuracy = {:.3f}\".format(validation_accuracy))\n",
    "        print()\n",
    "        if validation_accuracy > most_accuracy:\n",
    "            most_accuracy = validation_accuracy\n",
    "        else:\n",
    "            if (most_accuracy -validation_accuracy) > 0.05:\n",
    "                break\n",
    "    print (\"test accuracy %g\"%accuracy.eval(feed_dict={\n",
    "              x: X_test, y_: y_test, keep_prob: 1.0}))\n",
    "    print(\"break EPOCH = \", )\n",
    "    saver.save(sess, './MsNet')\n",
    "    print(\"Model saved\")\n",
    "    \n",
    "    \n",
    "    \n",
    "plt.plot(validation_accuracy_list)\n",
    "plt.show()\n",
    "#+end_src"
   ]
  },
  {
   "cell_type": "markdown",
   "metadata": {
    "ein.tags": [
     "worksheet-0"
    ],
    "slideshow": {
     "slide_type": "-"
    }
   },
   "source": [
    "### Question 4\n",
    "\n",
    "_How did you train your model? (Type of optimizer, batch size, epochs, hyperparameters, etc.)_\n"
   ]
  },
  {
   "cell_type": "markdown",
   "metadata": {
    "ein.tags": [
     "worksheet-0"
    ],
    "slideshow": {
     "slide_type": "-"
    }
   },
   "source": [
    "**Answer:**\n",
    "the optimizer is  AdamOptimizer\n",
    "the batch size is  256\n",
    "the hyperparameters is 20\n",
    "the epochs is  108\n",
    "the hyperparameters is y=Wx+b"
   ]
  },
  {
   "cell_type": "code",
   "execution_count": 0,
   "metadata": {
    "autoscroll": "json-false",
    "collapsed": false,
    "ein.tags": [
     "worksheet-0"
    ],
    "slideshow": {
     "slide_type": "-"
    }
   },
   "outputs": [],
   "source": [
    "print(\"the optimizer is  AdamOptimizer\")\n",
    "print(\"the batch size is \",batch_size)\n",
    "print(\"the hyperparameters is y=Wx+b\")\n",
    "print(\"the epochs is \",epochs)\n",
    "print(\"the learningRate is \",learning_rate)\n",
    "#print(\"the epochs is \")\n",
    "#print(\"the epochs is \")\n"
   ]
  },
  {
   "cell_type": "markdown",
   "metadata": {
    "ein.tags": [
     "worksheet-0"
    ],
    "slideshow": {
     "slide_type": "-"
    }
   },
   "source": [
    "### Question 5\n",
    "\n",
    "\n",
    "_What approach did you take in coming up with a solution to this problem? It may have been a process of trial and error, in which case, outline the steps you took to get to the final solution and why you chose those steps. Perhaps your solution involved an already well known implementation or architecture. In this case, discuss why you think this is suitable for the current problem._"
   ]
  },
  {
   "cell_type": "markdown",
   "metadata": {
    "ein.tags": [
     "worksheet-0"
    ],
    "slideshow": {
     "slide_type": "-"
    }
   },
   "source": [
    "**Answer:**"
   ]
  },
  {
   "cell_type": "markdown",
   "metadata": {
    "ein.tags": [
     "worksheet-0"
    ],
    "slideshow": {
     "slide_type": "-"
    }
   },
   "source": [
    "#### _What approach did you take in coming up with a solution to this problem?\n",
    "Trail :\n",
    "1.I tried using edge to handle the data,But the result is seems bad.\n",
    "2.I also tried the lenet-5,but the result is seems no good  which is 60-80\n",
    "3.with the AdamOptimizer,when get a highest accuracu ,more epochs more lower auucracy。\n",
    "error:\n",
    "1.the most error is using the tensorflow ,after search form google,It solved.\n",
    "finnal solution:\n",
    "1.I used the net which is saied in the paper[http://yann.lecun.com/exdb/publis/pdf/sermanet-ijcnn-11.pdf]. I only used grey to handle the image.\n",
    "Now the result is 91% But I did not think it is good.\n",
    "2. I used eraly stopping epoch to avoid overfitting\n",
    "\n"
   ]
  },
  {
   "cell_type": "markdown",
   "metadata": {
    "ein.tags": [
     "worksheet-0"
    ],
    "slideshow": {
     "slide_type": "-"
    }
   },
   "source": [
    "---\n",
    "\n",
    "## Step 3: Test a Model on New Images\n",
    "\n",
    "Take several pictures of traffic signs that you find on the web or around you (at least five), and run them through your classifier on your computer to produce example results. The classifier might not recognize some local signs but it could prove interesting nonetheless.\n",
    "\n",
    "You may find `signnames.csv` useful as it contains mappings from the class id (integer) to the actual sign name."
   ]
  },
  {
   "cell_type": "markdown",
   "metadata": {
    "ein.tags": [
     "worksheet-0"
    ],
    "slideshow": {
     "slide_type": "-"
    }
   },
   "source": [
    "### Implementation\n",
    "\n",
    "Use the code cell (or multiple code cells, if necessary) to implement the first step of your project. Once you have completed your implementation and are satisfied with the results, be sure to thoroughly answer the questions that follow."
   ]
  },
  {
   "cell_type": "code",
   "execution_count": 4,
   "metadata": {
    "autoscroll": "json-false",
    "collapsed": false,
    "ein.tags": [
     "worksheet-0"
    ],
    "slideshow": {
     "slide_type": "-"
    }
   },
   "outputs": [],
   "source": [
    "### Load the images and plot them here.\n",
    "### Feel free to use as many code cells as needed.\n",
    "with open(signnames., mode='rb') as f:\n",
    "    train = pickle.load(f)"
   ]
  },
  {
   "cell_type": "code",
   "execution_count": 0,
   "metadata": {
    "autoscroll": "json-false",
    "collapsed": false,
    "ein.tags": [
     "worksheet-0"
    ],
    "slideshow": {
     "slide_type": "-"
    }
   },
   "outputs": [],
   "source": [
    "### load the image and plot\n"
   ]
  },
  {
   "cell_type": "code",
   "execution_count": 0,
   "metadata": {
    "autoscroll": "json-false",
    "collapsed": false,
    "ein.tags": [
     "worksheet-0"
    ],
    "slideshow": {
     "slide_type": "-"
    }
   },
   "outputs": [],
   "source": []
  },
  {
   "cell_type": "markdown",
   "metadata": {
    "ein.tags": [
     "worksheet-0"
    ],
    "slideshow": {
     "slide_type": "-"
    }
   },
   "source": [
    "### Question 6\n",
    "\n",
    "_Choose five candidate images of traffic signs and provide them in the report. Are there any particular qualities of the image(s) that might make classification difficult? It could be helpful to plot the images in the notebook._\n",
    "\n"
   ]
  },
  {
   "cell_type": "markdown",
   "metadata": {
    "ein.tags": [
     "worksheet-0"
    ],
    "slideshow": {
     "slide_type": "-"
    }
   },
   "source": [
    "**Answer:**"
   ]
  },
  {
   "cell_type": "code",
   "execution_count": 0,
   "metadata": {
    "autoscroll": "json-false",
    "collapsed": false,
    "ein.tags": [
     "worksheet-0"
    ],
    "slideshow": {
     "slide_type": "-"
    }
   },
   "outputs": [],
   "source": [
    "### Run the predictions here.\n",
    "### Feel free to use as many code cells as needed.\n"
   ]
  },
  {
   "cell_type": "code",
   "execution_count": 0,
   "metadata": {
    "autoscroll": "json-false",
    "collapsed": false,
    "ein.tags": [
     "worksheet-0"
    ],
    "slideshow": {
     "slide_type": "-"
    }
   },
   "outputs": [],
   "source": [
    "### Run the prediction "
   ]
  },
  {
   "cell_type": "markdown",
   "metadata": {
    "ein.tags": [
     "worksheet-0"
    ],
    "slideshow": {
     "slide_type": "-"
    }
   },
   "source": [
    "### Question 7\n",
    "\n",
    "_Is your model able to perform equally well on captured pictures when compared to testing on the dataset? The simplest way to do this check the accuracy of the predictions. For example, if the model predicted 1 out of 5 signs correctly, it's 20% accurate._\n",
    "\n",
    "_**NOTE:** You could check the accuracy manually by using `signnames.csv` (same directory). This file has a mapping from the class id (0-42) to the corresponding sign name. So, you could take the class id the model outputs, lookup the name in `signnames.csv` and see if it matches the sign from the image._\n"
   ]
  },
  {
   "cell_type": "markdown",
   "metadata": {
    "ein.tags": [
     "worksheet-0"
    ],
    "slideshow": {
     "slide_type": "-"
    }
   },
   "source": [
    "**Answer:**"
   ]
  },
  {
   "cell_type": "code",
   "execution_count": 0,
   "metadata": {
    "autoscroll": "json-false",
    "collapsed": false,
    "ein.tags": [
     "worksheet-0"
    ],
    "slideshow": {
     "slide_type": "-"
    }
   },
   "outputs": [],
   "source": [
    "### Visualize the softmax probabilities here.\n",
    "### Feel free to use as many code cells as needed."
   ]
  },
  {
   "cell_type": "markdown",
   "metadata": {
    "ein.tags": [
     "worksheet-0"
    ],
    "slideshow": {
     "slide_type": "-"
    }
   },
   "source": [
    "### Question 8\n",
    "\n",
    "*Use the model's softmax probabilities to visualize the **certainty** of its predictions, [`tf.nn.top_k`](https://www.tensorflow.org/versions/r0.12/api_docs/python/nn.html#top_k) could prove helpful here. Which predictions is the model certain of? Uncertain? If the model was incorrect in its initial prediction, does the correct prediction appear in the top k? (k should be 5 at most)*\n",
    "\n",
    "`tf.nn.top_k` will return the values and indices (class ids) of the top k predictions. So if k=3, for each sign, it'll return the 3 largest probabilities (out of a possible 43) and the correspoding class ids.\n",
    "\n",
    "Take this numpy array as an example:\n",
    "\n",
    "```\n",
    "# (5, 6) array\n",
    "a = np.array([[ 0.24879643,  0.07032244,  0.12641572,  0.34763842,  0.07893497,\n",
    "         0.12789202],\n",
    "       [ 0.28086119,  0.27569815,  0.08594638,  0.0178669 ,  0.18063401,\n",
    "         0.15899337],\n",
    "       [ 0.26076848,  0.23664738,  0.08020603,  0.07001922,  0.1134371 ,\n",
    "         0.23892179],\n",
    "       [ 0.11943333,  0.29198961,  0.02605103,  0.26234032,  0.1351348 ,\n",
    "         0.16505091],\n",
    "       [ 0.09561176,  0.34396535,  0.0643941 ,  0.16240774,  0.24206137,\n",
    "         0.09155967]])\n",
    "```\n",
    "\n",
    "Running it through `sess.run(tf.nn.top_k(tf.constant(a), k=3))` produces:\n",
    "\n",
    "```\n",
    "TopKV2(values=array([[ 0.34763842,  0.24879643,  0.12789202],\n",
    "       [ 0.28086119,  0.27569815,  0.18063401],\n",
    "       [ 0.26076848,  0.23892179,  0.23664738],\n",
    "       [ 0.29198961,  0.26234032,  0.16505091],\n",
    "       [ 0.34396535,  0.24206137,  0.16240774]]), indices=array([[3, 0, 5],\n",
    "       [0, 1, 4],\n",
    "       [0, 5, 1],\n",
    "       [1, 3, 5],\n",
    "       [1, 4, 3]], dtype=int32))\n",
    "```\n",
    "\n",
    "Looking just at the first row we get `[ 0.34763842,  0.24879643,  0.12789202]`, you can confirm these are the 3 largest probabilities in `a`. You'll also notice `[3, 0, 5]` are the corresponding indices."
   ]
  },
  {
   "cell_type": "markdown",
   "metadata": {
    "ein.tags": [
     "worksheet-0"
    ],
    "slideshow": {
     "slide_type": "-"
    }
   },
   "source": [
    "**Answer:**"
   ]
  },
  {
   "cell_type": "markdown",
   "metadata": {
    "ein.tags": [
     "worksheet-0"
    ],
    "slideshow": {
     "slide_type": "-"
    }
   },
   "source": [
    "> **Note**: Once you have completed all of the code implementations and successfully answered each question above, you may finalize your work by exporting the iPython Notebook as an HTML document. You can do this by using the menu above and navigating to  \\n\",\n",
    "    \"**File -> Download as -> HTML (.html)**. Include the finished document along with this notebook as your submission."
   ]
  },
  {
   "cell_type": "code",
   "execution_count": 0,
   "metadata": {
    "autoscroll": "json-false",
    "collapsed": false,
    "ein.tags": [
     "worksheet-0"
    ],
    "slideshow": {
     "slide_type": "-"
    }
   },
   "outputs": [],
   "source": []
  },
  {
   "cell_type": "code",
   "execution_count": 0,
   "metadata": {
    "autoscroll": "json-false",
    "collapsed": false,
    "ein.tags": [
     "worksheet-0"
    ],
    "slideshow": {
     "slide_type": "-"
    }
   },
   "outputs": [],
   "source": []
  }
 ],
 "metadata": {
  "anaconda-cloud": {},
  "kernelspec": {
   "display_name": "Python [default]",
   "name": "python3"
  },
  "language_info": {
   "codemirror_mode": {
    "name": "ipython",
    "version": 3
   },
   "file_extension": ".py",
   "mimetype": "text/x-python",
   "name": "python",
   "nbconvert_exporter": "python",
   "pygments_lexer": "ipython3",
   "version": "3.5.2"
  },
  "name": "Traffic_Sign_Classifier.ipynb"
 },
 "nbformat": 4,
 "nbformat_minor": 1
}
